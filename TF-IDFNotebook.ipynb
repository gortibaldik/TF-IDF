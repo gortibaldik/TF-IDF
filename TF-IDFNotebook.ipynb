{
 "cells": [
  {
   "cell_type": "markdown",
   "metadata": {},
   "source": [
    "# Term Frequency - Inverse Document Frequency\n",
    "- the aim of this notebook is to show the helpfulness of ```tf-idf``` in finding keywords and extracting information from a text"
   ]
  },
  {
   "cell_type": "code",
   "execution_count": 1,
   "metadata": {},
   "outputs": [],
   "source": [
    "from dataset_loader import Dataset\n",
    "from document_preprocessor import DocumentPreprocessor\n",
    "from document_vectors import StatsKeeper\n",
    "import random"
   ]
  },
  {
   "cell_type": "markdown",
   "metadata": {},
   "source": [
    "# Load the dataset\n",
    "- [dataset](http://archives.textfiles.com/stories.zip\n",
    ") contains many novels/stories written by different authors, every story is written in english although many are saved in unsupported encodings\n",
    "- the dataset will be used as a databank to show the usefulness of ```tf-idf```, the ability to extract keywords which set appart distinct stories\n",
    "- because of troubles with encoding almost 7% of the data were not included to the dataset"
   ]
  },
  {
   "cell_type": "code",
   "execution_count": 2,
   "metadata": {},
   "outputs": [
    {
     "name": "stdout",
     "output_type": "stream",
     "text": [
      "Statistics of loading : correct : 437\tincorrect : 30\n"
     ]
    }
   ],
   "source": [
    "dataset = Dataset()"
   ]
  },
  {
   "cell_type": "markdown",
   "metadata": {},
   "source": [
    "# Load the document preprocessor\n",
    "- ```DocumentPreprocessor``` performs all the usual transformations of \n",
    "text in order to remove the most usual and uninteresting words\n",
    "- to show the importance of preprocessing we will create 2 types\n",
    "of preprocessors, one which will use all the transformations, other which will use only lower_casing\n",
    "- the transformations are well-named so that it won't be difficult to see which ones are used"
   ]
  },
  {
   "cell_type": "code",
   "execution_count": 3,
   "metadata": {},
   "outputs": [],
   "source": [
    "doc_preproc_all = DocumentPreprocessor(remove_apostrophes=True,\n",
    "                                         remove_punctuation=True,\n",
    "                                         remove_single_characters=True,\n",
    "                                         remove_stop_words=True,\n",
    "                                         stemming=True,\n",
    "                                         number_converting=True,\n",
    "                                         lower_case=True)\n",
    "\n",
    "doc_not_preproc = DocumentPreprocessor(lower_case=True)"
   ]
  },
  {
   "cell_type": "markdown",
   "metadata": {},
   "source": [
    "# Load the ```StatsKeeper```\n",
    "- the stats keeper is an object that holds all the important statistics about the whole corpus of documents\n",
    "- the important statistics include :\n",
    "    - ```tf-idfs``` of all words in the document\n",
    "    - ```tfs``` of all words in the document\n",
    "    - ```idfs``` of each word in the corpus of all documents\n",
    "- we will create 2 ```statsKeepers``` to keep track of stats of both, the preprocessed and the not preprocessed data"
   ]
  },
  {
   "cell_type": "code",
   "execution_count": 4,
   "metadata": {},
   "outputs": [],
   "source": [
    "statsKeeper_all = StatsKeeper()\n",
    "statsKeeper_not = StatsKeeper()"
   ]
  },
  {
   "cell_type": "markdown",
   "metadata": {},
   "source": [
    "# Fill ```StatsKeeper``` and ```DocumentPreprocessor``` with data from the dataset"
   ]
  },
  {
   "cell_type": "code",
   "execution_count": 5,
   "metadata": {},
   "outputs": [],
   "source": [
    "for path, (title, text) in dataset.texts.items():\n",
    "    preprocessed = doc_preproc_all.preprocess_document(\n",
    "        path, text, title)\n",
    "    statsKeeper_all.load_document(\n",
    "        title, preprocessed.title, preprocessed.text)\n",
    "    \n",
    "    preprocessed = doc_not_preproc.preprocess_document(\n",
    "        path, text, title)\n",
    "    statsKeeper_not.load_document(\n",
    "        title, preprocessed.title, preprocessed.text)"
   ]
  },
  {
   "cell_type": "code",
   "execution_count": 6,
   "metadata": {},
   "outputs": [],
   "source": [
    "statsKeeper_all.compile()\n",
    "statsKeeper_not.compile()"
   ]
  },
  {
   "cell_type": "markdown",
   "metadata": {},
   "source": [
    "# The most common words in both datasets\n",
    "- as we can see, the preprocessing got rid of conjunctions and interpunction, which naturally occur in almost each document, but don't carry any information value"
   ]
  },
  {
   "cell_type": "markdown",
   "metadata": {},
   "source": [
    "## With preprocessing:"
   ]
  },
  {
   "cell_type": "code",
   "execution_count": 7,
   "metadata": {},
   "outputs": [
    {
     "name": "stdout",
     "output_type": "stream",
     "text": [
      "1. one : 414\n",
      "2. time : 379\n",
      "3. like : 356\n",
      "4. would : 348\n",
      "5. could : 347\n",
      "6. look : 336\n",
      "7. go : 330\n",
      "8. see : 330\n",
      "9. said : 327\n",
      "10. back : 325\n"
     ]
    }
   ],
   "source": [
    "for rank, (token, frequency) in enumerate(statsKeeper_all._sorted_wdf[:10]):\n",
    "    print(\"{}. {} : {}\".format(rank + 1, token, frequency))"
   ]
  },
  {
   "cell_type": "markdown",
   "metadata": {},
   "source": [
    "## Without preprocessing:"
   ]
  },
  {
   "cell_type": "code",
   "execution_count": 8,
   "metadata": {},
   "outputs": [
    {
     "name": "stdout",
     "output_type": "stream",
     "text": [
      "1. a : 437\n",
      "2. the : 437\n",
      "3. , : 436\n",
      "4. and : 435\n",
      "5. . : 434\n",
      "6. to : 433\n",
      "7. of : 431\n",
      "8. in : 431\n",
      "9. it : 422\n",
      "10. for : 421\n"
     ]
    }
   ],
   "source": [
    "for rank, (token, frequency) in enumerate(statsKeeper_not._sorted_wdf[:10]):\n",
    "    print(\"{}. {} : {}\".format(rank + 1, token, frequency))"
   ]
  },
  {
   "cell_type": "markdown",
   "metadata": {},
   "source": [
    "# Words providing the most information\n",
    "- according to [Wikipedia](https://en.wikipedia.org/wiki/Tf%E2%80%93idf#Inverse_document_frequency_2) the inverse document frequency is a measure of how much information the word provides\n",
    "\n",
    "- we can see, that preprocessing helped with avoiding numbers and compound words to sneak into the list of most valuable words (information-wise)\n",
    "\n",
    "- also, all the words which are listed appeared in exactly 1 document\n",
    "\n",
    "$\\ln(\\frac{437}{1+1}) + 1\\approx6.38$"
   ]
  },
  {
   "cell_type": "markdown",
   "metadata": {},
   "source": [
    "## With preprocessing:"
   ]
  },
  {
   "cell_type": "code",
   "execution_count": 9,
   "metadata": {},
   "outputs": [
    {
     "name": "stdout",
     "output_type": "stream",
     "text": [
      "1. freewar : 6.384495062789089\n",
      "2. walley : 6.384495062789089\n",
      "3. quackeri : 6.384495062789089\n",
      "4. fiftieth : 6.384495062789089\n",
      "5. pipelin : 6.384495062789089\n",
      "6. businesss : 6.384495062789089\n",
      "7. bushpilot : 6.384495062789089\n",
      "8. traplin : 6.384495062789089\n",
      "9. whiteout : 6.384495062789089\n",
      "10. preheat : 6.384495062789089\n"
     ]
    }
   ],
   "source": [
    "for rank, (token, frequency) in enumerate(statsKeeper_all._sorted_idfs[:10]):\n",
    "    print(\"{}. {} : {}\".format(rank + 1, token, frequency))"
   ]
  },
  {
   "cell_type": "markdown",
   "metadata": {},
   "source": [
    "## Without preprocessing:"
   ]
  },
  {
   "cell_type": "code",
   "execution_count": 10,
   "metadata": {},
   "outputs": [
    {
     "name": "stdout",
     "output_type": "stream",
     "text": [
      "1. freeware : 6.384495062789089\n",
      "2. 53. : 6.384495062789089\n",
      "3. rigors : 6.384495062789089\n",
      "4. walleye : 6.384495062789089\n",
      "5. quackery : 6.384495062789089\n",
      "6. southerner : 6.384495062789089\n",
      "7. fiftieth : 6.384495062789089\n",
      "8. pipelines : 6.384495062789089\n",
      "9. drivein : 6.384495062789089\n",
      "10. businesss : 6.384495062789089\n"
     ]
    }
   ],
   "source": [
    "for rank, (token, frequency) in enumerate(statsKeeper_not._sorted_idfs[:10]):\n",
    "    print(\"{}. {} : {}\".format(rank + 1, token, frequency))"
   ]
  },
  {
   "cell_type": "markdown",
   "metadata": {},
   "source": [
    "# The keywords of example document\n",
    "- the ```statsKeeper``` keeps the statistics for each individual document and for the whole dataset, hence we could have seen the most common words\n",
    "- therefore the random document is selected from the corpus, where we can see how the keyword extraction with ```tf-idf``` can work\n",
    "\n",
    "- the exact formula for calculating ```tf```: $\\frac{termfrequency * \\alpha}{numberOfWordsInTheDocument}$ where $\\alpha$ is a value that represents if the word is present in the title, in the body or in both\n",
    "\n",
    "- the exact formula for calculating ```tf-idf```: $tfidf[i] = tf[i] * idf[i]$"
   ]
  },
  {
   "cell_type": "code",
   "execution_count": 11,
   "metadata": {},
   "outputs": [],
   "source": [
    "# pick random document\n",
    "_, (title, text) = random.choice(list(dataset.texts.items()))"
   ]
  },
  {
   "cell_type": "code",
   "execution_count": 12,
   "metadata": {},
   "outputs": [
    {
     "name": "stdout",
     "output_type": "stream",
     "text": [
      "TITLE : Dream Girl by Melina Huddy\n"
     ]
    }
   ],
   "source": [
    "print(\"TITLE : {}\".format(title))"
   ]
  },
  {
   "cell_type": "code",
   "execution_count": 13,
   "metadata": {
    "scrolled": true
   },
   "outputs": [
    {
     "name": "stdout",
     "output_type": "stream",
     "text": [
      "\n",
      "TEXT : DREAM GIRL\n",
      "  by Melina Huddy\n",
      "\n",
      "  She reminded me of someone that I'd known once, but I couldn't \n",
      "recall who. She came into the bar that first Saturday wearing red \n",
      "slacks and white high heels, looking good and smelling even better.\n",
      "\n",
      "  \"Draft.\"  Her voice was top shelf bourbon, deep amber, smooth and \n",
      "mellow. She sounded like someone used to being listened to.\n",
      "\n",
      "  I got her a mug of beer and watched her drink while I tended bar. \n",
      "Saturday afternoons are pretty busy around here; folks stop in and \n",
      "have a couple, then go on about their shopping or whatever. \n",
      "\n",
      "  Dad bought this place from Jim Parker about forty years ago and \n",
      "let Mom name it and do the decorating. It's still called Kitty Korner \n",
      "and there are ceramic cats everywhere. I never have liked it, but who \n",
      "am I to change what's become a town institution?\n",
      "\n",
      "  After Dad died and Mom went to the nursing home, I bought my sister \n",
      "out and Kitty Korner's all mine now. There used to be a laundromat next \n",
      "door, but I bought that, too; put in a couple pool tables and a dance \n",
      "floor. I turn a fair profit.\n",
      "\n",
      "  \"Hey, Jack.\"  The back door slammed against the afternoon sun, \n",
      "letting Bud and Virginia in. It's regulars like these two that keep \n",
      "me in business.\n",
      "\n",
      "  Bud's a little weasel of a man, dark and greasy in a diesel \n",
      "mechanic kind of way. Virginia's on the housekeeping staff at the \n",
      "hospital, a tiny brown mouse. She wears smocks and walks uphill, even \n",
      "on flat land. They keep an apartment above the bank across the street.\n",
      "\n",
      "  Two long-necked Stroh's, two glasses of ice. \"What flavor?\"  I'd \n",
      "gotten in a sample case of flavored schnapps about a month ago, and \n",
      "Virginia liked to sample things. I knew what Bud would say.\n",
      "  \n",
      "  \"Peppermint.\"\n",
      "\n",
      "  \"What's that dark brown one?\"\n",
      "\n",
      "  \"Root beer.\"\n",
      "\n",
      "  \"I'll try that.\"\n",
      "\n",
      "                               *  *  *  \n",
      "\n",
      "  She was smoking a cigarette when I noticed that her mug was empty.\n",
      "\n",
      "  \"Another?\"\n",
      "\n",
      "  She nodded. I wanted to ask her if we'd met somewhere before, \n",
      "but that line's older than I am. \"Fresh mug?\"  Some people like them \n",
      "frosted and others keep the same one all night.\n",
      "\n",
      "  \"Yes, please.\"  Her eyes made me think of the storms we get in \n",
      "August, dark gray and powerful. Her smile was like the rainbows after, \n",
      "always unexpected and awfully pretty. \n",
      "\n",
      "  She had two more before she left, and I didn't know any more about \n",
      "her that when she'd come in. That, in itself, made her odd. Women \n",
      "usually get chatty after a couple beers, and strangers like to talk \n",
      "about themselves. A strange woman in the Kitty Korner, alone -- well, \n",
      "that was almost unheard of. Shit, she hadn't even said anything about \n",
      "the cats and they all do that.\n",
      "\n",
      "  The night crowd started in. Men driving pick-up trucks and herds of \n",
      "too loud laughter. Women wearing make-up like armor over worry. Drinking \n",
      "beer and shooting pool, dropping quarters in the juke box, dancing.\n",
      " \n",
      "  I don't have posted hours. Everybody knows. Monday through Friday, \n",
      "noon 'til midnight. I'll let them stay until two on Saturday, unless a \n",
      "fight breaks out. Sunday's my day off.\n",
      "\n",
      "  \"Last call,\" I shout at 12:15.\n",
      "\n",
      "  \"Ah, come one.\"\n",
      "\n",
      "  \"One more, Jack.\"\n",
      "\n",
      "  \"It's early yet, give us another round over here.\"\n",
      "\n",
      "  \"Come on, Jack! I can't go home before one on Saturday. The old \n",
      "lady'll think I'm sick and feed me chicken soup for Sunday dinner!\"\n",
      "\n",
      "  \"Wait just a minute, Jack. I'm trying to talk this little girl into \n",
      "going home with me.\"\n",
      "\n",
      "  And so it went, like every other Saturday. I locked the doors at \n",
      "2:05, with nobody left but Bud, Virginia and me.\n",
      "\n",
      "                               *  *  * \n",
      "\n",
      "  \"So, who was she?\"\n",
      "\n",
      "  \"Who?\"\n",
      "\n",
      "  \"Red slacks, red Cadillac.\"\n",
      "\n",
      "  \"Red Cadillac?\"\n",
      "\n",
      "  \"Yeah.\"  Bud got us a beer. Another Stroh's for him, Genessee for \n",
      "me. Virginia was cleaning up, like she always does.\n",
      "\n",
      "  Six nights a week she stays after closing, and on Sunday's she comes \n",
      "in and really gives the place a going over. She takes her housekeeping \n",
      "seriously, and does a damn good job. I think she dusts every one of those \n",
      "freaking cats. I know if I look hard enough on Monday I'll probably find \n",
      "a new one. If I ask her, she can tell me how much pussy is in the room.\n",
      "\n",
      "  \"Hey, Virginia, how much . . .\"\n",
      "\n",
      "  \"5221.\"  She's heard it for ten years now, and keeps a running count.\n",
      "\n",
      "  \"Cadillac, huh?\"\n",
      "\n",
      "  \"Yeah.\" Bud knows his cars like Virginia knows her clean. \"'73. El \n",
      "Dorado. Front wheel drive and in good shape, too. Pretty thing. We saw \n",
      "her pull up, out of state plates. I didn't look, maybe Virginia . . . \n",
      "hey, Virginia, did you notice the plates on that Eldy?\"\n",
      "\n",
      "  \"No. Nice car, though. Friend of yours, Jack?\"\n",
      "\n",
      "  \"Nope. Reminded me of somebody. Can't think who.\"\n",
      "\n",
      "  \"Shame.\"  Virginia's been trying to marry me off ever since I took \n",
      "over this place.\n",
      "\n",
      "  I used to think about getting married, before Viet Nam, before Dad \n",
      "died. I told him all about my dream girl once and he said, \"You'll \n",
      "never find one like that, son.\" He was right, I never did. I'm too old \n",
      "now to think about it any more. I'll be 48 next fall.\n",
      "\n",
      "  Dad was right about most things. Just before he died, he said to me \n",
      "one morning, \"You'll have to take care of your mother when I'm gone. She \n",
      "won't take my passing very well, I'm afraid.\"  He was 62 and healthy, and \n",
      "I didn't pay much attention.\n",
      "\n",
      "  Before the month was out he'd been killed in a head on collision. \n",
      "Mom burned the house down the day of the funeral. They tried her for \n",
      "arson and the judge found her incompetent. The insurance company paid \n",
      "off and she went to the home. I bought Marty's half of the bar and the \n",
      "laundromat. Marty took the money and her kids and her lawyer husband and \n",
      "moved to Connecticut. Marty was always a taker, and a mover.\n",
      "\n",
      "                               *  *  * \n",
      "\n",
      "  I drove home in the hazy darkness and was glad to see the light on \n",
      "in the kitchen. It meant that Bell was still there. Bell manages the \n",
      "trailer park I bought when I first got back from Nam. I hired her when \n",
      "I took over Kitty Korner, give her two hundred a week and free rent on \n",
      "a 3-bedroom.\n",
      "\n",
      "  She was glad to get it then, for her and her two kids. She worked \n",
      "the bar before Dad died. In ten years, she's never asked for a raise \n",
      "and cooks my supper every night. Folks think that we sleep together, \n",
      "which just goes to show how little they know. Bell was Dad's mistress, \n",
      "not mine.\n",
      "\n",
      "  \"Evening, Bell.\"\n",
      "\n",
      "  \"Jack.\"  Bell's a pretty woman, pink and white, soft voiced and \n",
      "hard working. \"Scott went fishing this morning. Catfish for your supper.\"\n",
      "\n",
      "  Golden brown with just enough cayenne, hush puppies, fries and slaw -- \n",
      "a perfect meal, like so many before. \"Thanks, Bell. Good eating. How goes \n",
      "things?\"\n",
      "\n",
      "  \"Fine, Jack, just fine. Coffee?\"  She poured two cups and joined \n",
      "me. \"Third month in a row with no late rents. Got that water line fixed \n",
      "on 19 today. Can you smell the grass? Mowers running all afternoon -- \n",
      "can't stand the sound, but sure do like that smell.\"\n",
      "\n",
      "  \"Folks come in to pay their rent just to get a cup of your coffee, \n",
      "Bella. It's been a better park since you took over, you're better with \n",
      "the people than I ever was.\"\n",
      "\n",
      "  \"Nonsense. You took in every hard luck case that walked into the \n",
      "bar is all. I check references. Free drinks don't hit the pocketbook \n",
      "as hard as free rent.\"\n",
      "\n",
      "  I laughed at her, but knew that she was right. One of the best moves \n",
      "I ever made was setting Bell Watson up as park manager.\n",
      "\n",
      "                               *  *  *\n",
      "\n",
      "  It was Wednesday, late and raining when Bud said, \"Saw her at the \n",
      "Food Mart. Ahead of me in line, got one of those barbecued chickens and \n",
      "a bottle of fancy wine. Ever find out who she is?\"\n",
      "\n",
      "  \"I didn't ask, just figured she was passing through. Still in town, \n",
      "huh?\"  That wasn't exactly true. I'd been looking for her car, but \n",
      "hadn't seen it anywhere and decided that I'd never see her again. It \n",
      "still bothered me. She reminded me so much of someone.\n",
      "\n",
      "  And then there she was, back at the Kitty Korner that Saturday, \n",
      "wearing black, with red heels and a scarf this time. Four draft beers \n",
      "and she was gone. Next three Saturdays in a row. Always wearing red, \n",
      "and either black or white.\n",
      "\n",
      "  By the end of the month, I was like one of the damn cats, ready \n",
      "to die for the curiosity, and called Ed Johnson. Ed knows everything \n",
      "there is to know in this town.\n",
      "\n",
      "  \"Ed!  It's Jack.\"\n",
      "\n",
      "  \"Long time, Jack. How's your mother?  Marty?\"\n",
      "\n",
      "  \"The same, Ed. Just the same.\"  If there had been any change in \n",
      "Mom, someone would have called me from the home. They call every year \n",
      "with the new rates. And I still get proper little thank you notes for \n",
      "the checks I send to Marty's kids, so nothings changed there, either. \n",
      "\"Haven't seen you in the Korner, been a couple months, hasn't it?\"\n",
      "\n",
      "  \"Yeah. Ma's down sick and I been helping Pops out. Keep telling the \n",
      "old man to leave the farming to the kids, but he's as stubborn as the \n",
      "day is long. Won't listen to sense, so you know he's not going to listen \n",
      "to me! Loves those chickens like a mother loves her children . . . what's \n",
      "up, Jack?  Not like you to call just to hear my jaw flap.\"\n",
      "\n",
      "  \"Well, Ed, to tell you the truth, I'm, well, I'm kind of curious \n",
      "about something. Ought to say somebody. There's this woman, been coming \n",
      "in on Saturday's. Drives a red Cadillac . . .\"\n",
      "\n",
      "  His dry chuckle stopped me and I waited. He knew something. \"Strange \n",
      "bird, that one. Pulled in out at the Parker place 5, 6 weeks ago, hauling \n",
      "a camper, one of those AirStreams. Set it up by herself, too. Got keys to \n",
      "the house and goes in and out, but stays in the camper. It's weird driving \n",
      "by and seeing lights out there. After the old man sold the Korner to your \n",
      "Daddy, the Parker's . . .\"\n",
      "\n",
      "  I didn't call to hear the Parker family history. \"Did the Parker's \n",
      "have a daughter?\"  I was trying hard to remember.\n",
      "\n",
      "  \"No, Jack, no Parker girls. Just boys. Four sons and not one to \n",
      "take over the bar. Course, back then it was called `Jim's Place', \n",
      "don't suppose you'd remember that. Can't say as I do, either. Just heard \n",
      "Pops talk about how much your mother changed the place, made it fit for \n",
      "ladies, Ma says. She still looks for those knick-knacks when she gets out. \n",
      "No, she's not a Parker. Don't  know who she is. Been down here 3 or 4 \n",
      "times, buying eggs. Doesn't say much. Why you asking, Jack?\"\n",
      "\n",
      "  That's why Ed knows so much, he's always asking. If she'd been to \n",
      "the Johnson's more than once and Ed hadn't found out anything about her, \n",
      "well, \"No reason, Ed. Just wondering. Look, I've got to get off of here. \n",
      "Carpenter's coming in this morning, shelves for the cats, you know.\" Lucy \n",
      "Johnson and Virginia weren't the only ones buying knick-knacks.\n",
      "\n",
      "  \"Got a regular museum, don't you. That's fine, real fine. How many \n",
      "of those things you got now?  Ma was just saying the other day that you \n",
      "could probably get in that record book, ever thought about that, Jack?\"\n",
      "\n",
      "  \"Can't say as I have, Ed. Something to think about. Over five \n",
      "thousand, last count. Well, I got to go. Sorry to hear your Ma's not \n",
      "well. Stop in at the Korner when you get a chance, I'll buy you a beer. \n",
      "Give your folks my best, hear?\"\n",
      "\n",
      "  \"Sure thing, Jack. Sure thing. And if I hear anything . . .\"\n",
      "\n",
      "  \"Doesn't matter, Ed, really. Not important at all. Be seeing you.\"  \n",
      "\n",
      "  I drove into town through the familiar early morning. She'd be in \n",
      "tomorrow, and I'd just mention that the Parker's used to own the bar, \n",
      "see what she had to say. Probably shy, is all. Even as I thought it, I \n",
      "knew it wasn't so. Reserved and private, strong and proud, maybe stubborn, \n",
      "but not bashful, not that woman.\n",
      "\n",
      "  \"You want them shelves built or not?\"\n",
      "\n",
      "  \"Yeah, Tom -- sorry I'm late. Got tied up on the phone. In here,\"  \n",
      "unlocking the door, clicking on the lights, \"along that wall, just like \n",
      "the ones on the other side, ok?\"\n",
      "\n",
      "  \"No problem, Jack.\"\n",
      "\n",
      "                               *  *  *\n",
      "\n",
      "  On Saturday I caught myself watching, listening for her footsteps, \n",
      "turning when I heard the door. She didn't come in at the usual time, \n",
      "and it chilled me even though it was a heavy, sweating day.\n",
      "\n",
      "  Virginia's sister and her husband were in for the week-end. Bud and \n",
      "Virginia were entertaining them at a table. I missed them at the bar \n",
      "and hadn't heard a new joke all day. I felt stale beer flat and took two\n",
      "aspirin.\n",
      "\n",
      "  The door opened and Ed walked in, carrying an enormous box.\n",
      "\n",
      "  \"What's this?\"  I asked as he sat it on the bar. \"Have a beer?\"\n",
      "\n",
      "  \"No thanks, Ma's bad, got to get back.\"  He mopped at his face with \n",
      "a napkin. \"Lady up at Parker's brought this down. Said she was leaving \n",
      "tomorrow. Seems she's in real estate. Guess their going to sell the old \n",
      "place. Anyway, asked me if I'd bring this in to you after she'd gone. \n",
      "Said she thought you needed it. I figured you'd want to thank her, so I \n",
      "ran it down now.\"\n",
      "\n",
      "  The box was neatly wrapped in brown paper. Inside was a life-size \n",
      "china dalmatian, wearing a red collar. The card said:  To Jack from \n",
      "Kitty (Kathleen McPherson).\n",
      "\n",
      "  I was smiling as I grabbed my keys. \"Lock up for me tonight, Virginia!  \n",
      "Thanks, Ed.\"\n",
      "\n",
      "  I drove out of town through a trembling dusk and thought about how \n",
      "wrong Dad could be sometimes. That twelve year old of Bell's had his eyes; \n",
      "it was Bella's brother driving the truck that hit him left of center.\n",
      "\n",
      "  I should have recognized her, but it had been so long since I had \n",
      "allowed myself to dream. Kitty! I had to laugh. I punched the accelerator, \n",
      "didn't want to keep her waiting.\n",
      "\n",
      "  I could feel her stormy eyes flashing in my soul.\n",
      "  \n",
      "                               #  #  #\n",
      "                               \n",
      "Copyright 1994 Melina Huddy\n",
      "---------------------------------------------------------------------\n",
      "Melina Huddy lives in Newark, Delaware where she is adored by her (4th) \n",
      "husband, accepted by her friends, and tolerated by the bird. She writes\n",
      "short stories and works in the advanced ceramic composite research\n",
      "field in her spare time. She can be found in Author's Network.\n",
      "=======================================================================\n",
      "                               \n",
      "\u001a\n"
     ]
    }
   ],
   "source": [
    "print(\"\\nTEXT : {}\".format(text))"
   ]
  },
  {
   "cell_type": "markdown",
   "metadata": {},
   "source": [
    "## Most frequent tokens in the document\n",
    "- for bare term frequency we see that articles (the, a, an), pronouns (i, you) are the most frequent although they doesn't carry any information value\n",
    "\n",
    "- preprocessing helps with getting rid of these words"
   ]
  },
  {
   "cell_type": "markdown",
   "metadata": {},
   "source": [
    "### With preprocessing:"
   ]
  },
  {
   "cell_type": "code",
   "execution_count": 14,
   "metadata": {},
   "outputs": [
    {
     "name": "stdout",
     "output_type": "stream",
     "text": [
      "1. one : 0.014820592823712949\n",
      "2. like : 0.014040561622464899\n",
      "3. jack : 0.0124804992199688\n",
      "4. virginia : 0.0109204368174727\n",
      "5. got : 0.0093603744149766\n",
      "6. know : 0.0093603744149766\n",
      "7. ed : 0.0093603744149766\n",
      "8. two : 0.00858034321372855\n",
      "9. get : 0.00858034321372855\n",
      "10. bar : 0.0070202808112324495\n"
     ]
    }
   ],
   "source": [
    "for rank, (token, frequency) in enumerate(statsKeeper_all.documents[title].sorted_term_frequencies[:10]):\n",
    "    print(\"{}. {} : {}\".format(rank + 1, token, frequency))"
   ]
  },
  {
   "cell_type": "markdown",
   "metadata": {},
   "source": [
    "### Without preprocessing:"
   ]
  },
  {
   "cell_type": "code",
   "execution_count": 15,
   "metadata": {},
   "outputs": [
    {
     "name": "stdout",
     "output_type": "stream",
     "text": [
      "1. . : 0.07768800497203232\n",
      "2. , : 0.056867619639527654\n",
      "3. `` : 0.039776258545680544\n",
      "4. the : 0.02952144188937228\n",
      "5. i : 0.027035425730267248\n",
      "6. and : 0.024549409571162212\n",
      "7. a : 0.01709136109384711\n",
      "8. to : 0.016469857054070853\n",
      "9. 's : 0.015226848974518334\n",
      "10. in : 0.014916096954630205\n"
     ]
    }
   ],
   "source": [
    "for rank, (token, frequency) in enumerate(statsKeeper_not.documents[title].sorted_term_frequencies[:10]):\n",
    "    print(\"{}. {} : {}\".format(rank + 1, token, frequency))"
   ]
  },
  {
   "cell_type": "markdown",
   "metadata": {},
   "source": [
    "## Words with highest ```tf-idf``` in the document\n",
    "- we see that since many stopwords, articles, pronouns, interpunction have really high term frequency, they can sneak into the top 10\n",
    "\n",
    "- hence preprocessing is really important even if using normalized ```tf-idf```"
   ]
  },
  {
   "cell_type": "markdown",
   "metadata": {},
   "source": [
    "### With preprocessing"
   ]
  },
  {
   "cell_type": "code",
   "execution_count": 16,
   "metadata": {},
   "outputs": [
    {
     "name": "stdout",
     "output_type": "stream",
     "text": [
      "1. virginia : 0.05458253496362619\n",
      "2. jack : 0.04432176872053508\n",
      "3. korner : 0.039840842825516934\n",
      "4. ed : 0.038688330085952516\n",
      "5. parker : 0.03838832993622029\n",
      "6. kitti : 0.031076002477070208\n",
      "7. bud : 0.02686460855606398\n",
      "8. saturday : 0.026047673728754325\n",
      "9. beer : 0.022963196397978496\n",
      "10. marti : 0.021326849964566824\n"
     ]
    }
   ],
   "source": [
    "for rank, (token, frequency) in enumerate(statsKeeper_all.documents[title].sorted_tf_idfs[:10]):\n",
    "    print(\"{}. {} : {}\".format(rank + 1, token, frequency))"
   ]
  },
  {
   "cell_type": "markdown",
   "metadata": {},
   "source": [
    "### Without preprocessing"
   ]
  },
  {
   "cell_type": "code",
   "execution_count": 17,
   "metadata": {},
   "outputs": [
    {
     "name": "stdout",
     "output_type": "stream",
     "text": [
      "1. . : 0.07786639312153125\n",
      "2. , : 0.05673733866699201\n",
      "3. `` : 0.04390633214089837\n",
      "4. the : 0.029386332079675535\n",
      "5. i : 0.028962756459296225\n",
      "6. and : 0.024549409571162212\n",
      "7. virginia : 0.02174481349389956\n",
      "8. -- : 0.020548153579432325\n",
      "9. she : 0.01997826607627479\n",
      "10. jack : 0.017512960506449324\n"
     ]
    }
   ],
   "source": [
    "for rank, (token, frequency) in enumerate(statsKeeper_not.documents[title].sorted_tf_idfs[:10]):\n",
    "    print(\"{}. {} : {}\".format(rank + 1, token, frequency))"
   ]
  }
 ],
 "metadata": {
  "kernelspec": {
   "display_name": "Python 3",
   "language": "python",
   "name": "python3"
  },
  "language_info": {
   "codemirror_mode": {
    "name": "ipython",
    "version": 3
   },
   "file_extension": ".py",
   "mimetype": "text/x-python",
   "name": "python",
   "nbconvert_exporter": "python",
   "pygments_lexer": "ipython3",
   "version": "3.8.2"
  }
 },
 "nbformat": 4,
 "nbformat_minor": 4
}
